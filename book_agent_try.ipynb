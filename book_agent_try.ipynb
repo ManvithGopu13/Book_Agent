{
 "cells": [
  {
   "cell_type": "markdown",
   "id": "0",
   "metadata": {},
   "source": [
    "### Setting Up environment"
   ]
  },
  {
   "cell_type": "code",
   "execution_count": null,
   "id": "1",
   "metadata": {},
   "outputs": [],
   "source": [
    "import os \n",
    "from dotenv import load_dotenv\n",
    "from telegram import Update, Bot\n",
    "from telegram.ext import Application , MessageHandler, filters, ContextTypes\n",
    "\n",
    "load_dotenv()"
   ]
  },
  {
   "cell_type": "code",
   "execution_count": null,
   "id": "2",
   "metadata": {},
   "outputs": [],
   "source": [
    "TELEGRAM_TOKEN = os.getenv(\"TELEGRAM_BOT_TOKEN\")\n",
    "OLLAMA_MODEL = \"qwen2.5:7b\""
   ]
  },
  {
   "cell_type": "markdown",
   "id": "3",
   "metadata": {},
   "source": [
    "### Defining Tools"
   ]
  },
  {
   "cell_type": "code",
   "execution_count": null,
   "id": "4",
   "metadata": {},
   "outputs": [],
   "source": [
    "from langchain_core.tools import tool\n",
    "from duckduckgo_search import DDGS\n",
    "import requests\n",
    "from PyPDF2 import PdfReader\n",
    "import tempfile"
   ]
  },
  {
   "cell_type": "code",
   "execution_count": null,
   "id": "5",
   "metadata": {},
   "outputs": [],
   "source": [
    "@tool\n",
    "def search_and_download_book(book_title: str) -> str:\n",
    "    \"\"\"\n",
    "        Searches for PDF versions of books and returns the first downloadable link.\n",
    "        Returns PDF path if successful, error message otherwise.\n",
    "    \"\"\"\n",
    "\n",
    "    try:\n",
    "        with DDGS() as ddgs:\n",
    "            results = [r for r in ddgs.text(f\"{book_title} filetype:pdf\", max_results=5)]\n",
    "            for result in results:\n",
    "                pdf_url = result.get(\"href\", \"\")\n",
    "                if pdf_url.endswith(\".pdf\"):\n",
    "                    response = requests.get(pdf_url, timeout= 10)\n",
    "                    if response.status_code == 200:\n",
    "                        with tempfile.NamedTemporaryFile(delete=False, suffix=\".pdf\") as f:\n",
    "                            f.write(response.content)\n",
    "                            return f.name\n",
    "                        \n",
    "        return \"PDF not found\"\n",
    "    except Exception as e:\n",
    "        return f\"Error: {str(e)}\""
   ]
  },
  {
   "cell_type": "code",
   "execution_count": null,
   "id": "6",
   "metadata": {},
   "outputs": [],
   "source": [
    "@tool\n",
    "def summarize_pdf(pdf_path: str) -> str:\n",
    "    \"\"\"\n",
    "        Summarizes the content of a PDF file using the local LLM\n",
    "    \"\"\"\n",
    "    try:\n",
    "        text = \"\"\n",
    "        with open(pdf_path, \"rb\") as f:\n",
    "            reader = PdfReader(f)\n",
    "            for page in reader.pages:\n",
    "                text += page.extract_text()[:2000]\n",
    "\n",
    "        from langchain_ollama import ChatOllama\n",
    "        llm = ChatOllama(\n",
    "            model= OLLAMA_MODEL,\n",
    "            temperature= 0.7,\n",
    "            base_url=\"http://127.0.0.1:11434\",\n",
    "        )\n",
    "\n",
    "        summary = llm.invoke(\n",
    "            f\"Summarize this book content in 5 paragraphs: {text[:3000]}\"\n",
    "        )\n",
    "        return summary.content\n",
    "    except Exception as e:\n",
    "        return f\"Summarization failed : {str(e)}\""
   ]
  }
 ],
 "metadata": {
  "kernelspec": {
   "display_name": "venv",
   "language": "python",
   "name": "python3"
  },
  "language_info": {
   "codemirror_mode": {
    "name": "ipython",
    "version": 3
   },
   "file_extension": ".py",
   "mimetype": "text/x-python",
   "name": "python",
   "nbconvert_exporter": "python",
   "pygments_lexer": "ipython3",
   "version": "3.12.9"
  }
 },
 "nbformat": 4,
 "nbformat_minor": 5
}
